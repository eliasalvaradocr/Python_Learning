{
 "cells": [
  {
   "cell_type": "markdown",
   "metadata": {},
   "source": [
    "# Clases y Objetos\n",
    "\n",
    "La programación orientada a objetos POO es un paradigma de programación en el que los conceptos del mundo real relevantes para nuestro problema se modelan a través de clases y objetos, y en el que nuestro programa consiste en una serie de interacciones entre estos objetos.\n",
    "\n",
    "## Clases y Objetos\n",
    "\n",
    "Un objeto es una entidad que agrupa un estado y una funcionalidad relacionada. El estado del objeto se define a través de variables llamadas atributos, mientras que la funcionalidad se modela a través de funciones a las que se les conoce con el nombre de métodos del objeto.\n",
    "\n",
    "Un ejemplo de objeto podría ser un auto, tenemos atributos como el número de puertas, marca, tipo de combustible, etc. Mientras que una clase no es más que una plantilla genérica a partir de la cuál instancia los objetos, una plantilla que es la que define qué atributos y métodos tendrán los objetos de una clase.\n",
    "\n",
    "En Python las clases se definen mediante la palabra clave *class* seguiendo con el nombre de la clase. El método de _ _ init _ _ con una doble barra baja al principio y final del nombre, se ejecuta justo después de crear un nuevo objeto a partir de la clase, proceso que se conoce con el nombre de **instanciación**. n. El método _ _init_ _ sirve, como sugiere su nombre, para realizar cualquier proceso de inicialización que sea necesario. EXPLICAR SOBRE LOS SELF.\n",
    "\n",
    "---\n",
    "Tres conceptos básicos para cualquier lenguaje de programación orientado a objetos: *el encapsulamiento, la herencia y el polimorfismo*\n",
    "\n",
    "### **Herencia**\n",
    "En un lenguaje orientado a objetos, cuando hacemos que una clase (subclase) herede de otra clase (superclase) estamos haciendo que la subclase contenga todos los atributos y métodos que tenía la superclase. \n",
    "\n",
    "### **Herencia Múltiple**\n",
    "En python permite la herencia múltiple, es decir una clase puede heredar de varias clases a la vez. \n",
    "\n",
    "### **Polimorfismo**\n",
    "Se refiere a la habilidad de objetos de distintas clases de responder al mismo mensaje esto se puede conseguir a través de la herencia, un objeto de una clase derivada es al mismo tiempo un objeto de la clase padre. de forma que allí donde se requiere un objeto de la clase padre también se puede utilizar uno de la clase hija.\n",
    "\n",
    "### **Encapsulación**\n",
    "La encapsulación se refiere a impedir el acceso a determinados métodos y atributos de los objetos estableciendo así qué puede utilizarse desde fuera de la clase.\n",
    "\n"
   ]
  }
 ],
 "metadata": {
  "kernelspec": {
   "display_name": "Python 3",
   "language": "python",
   "name": "python3"
  },
  "language_info": {
   "codemirror_mode": {
    "name": "ipython",
    "version": 3
   },
   "file_extension": ".py",
   "mimetype": "text/x-python",
   "name": "python",
   "nbconvert_exporter": "python",
   "pygments_lexer": "ipython3",
   "version": "3.11.9"
  }
 },
 "nbformat": 4,
 "nbformat_minor": 2
}
