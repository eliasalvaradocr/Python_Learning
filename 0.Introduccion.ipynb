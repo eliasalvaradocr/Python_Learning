{
 "cells": [
  {
   "cell_type": "markdown",
   "metadata": {},
   "source": [
    "# "
   ]
  },
  {
   "cell_type": "markdown",
   "metadata": {},
   "source": [
    "# Introducción a Python\n",
    "### Elaborado por Elías Alvarado\n",
    "---\n",
    "\n",
    "## Comentarios en Python\n",
    "\n",
    "Los comentarios son elementos esenciales en cualquier lenguaje de programación, y Python no es la excepción. Nos permiten agregar explicaciones o notas en el código que no son interpretadas ni ejecutadas por el programa. \n",
    "\n",
    "### ¿Cómo se escriben los comentarios?\n",
    "\n",
    "En Python, un comentario comienza con el carácter `#` y continúa hasta el final de la línea. Los comentarios pueden:\n",
    "\n",
    "1. Aparecer al comienzo de una línea.\n",
    "2. Estar precedidos por espacios en blanco o código.\n",
    "3. **Nunca** estar dentro de una cadena de caracteres, ya que entonces serán interpretados como texto literal."
   ]
  },
  {
   "cell_type": "code",
   "execution_count": 41,
   "metadata": {},
   "outputs": [],
   "source": [
    "# Este es un comentario\n",
    "primero = 1 # y este es otro comentario\n",
    "            # ... y ahora otro!\n",
    "texto = \"# Este no puede ser un comentario por estar entre comillas\""
   ]
  },
  {
   "cell_type": "markdown",
   "metadata": {},
   "source": [
    "### Variables en Python\n",
    "\n",
    "En Python, las variables se utilizan para almacenar datos. A diferencia de otros lenguajes de programación, no es necesario declarar explícitamente el tipo de dato que contendrá la variable; Python determina automáticamente el tipo según el valor asignado. Este enfoque dinámico hace que Python sea más flexible y fácil de usar.\n",
    "\n",
    "### Asignación de Variables\n",
    "\n",
    "Para asignar un valor a una variable, simplemente se utiliza el operador `=`. Por ejemplo:\n",
    "\n",
    "### Asignando valores a variables\n",
    "x = 10           # Variable entera\n",
    "y = 3.14         # Variable de punto flotante\n",
    "name = \"Python\"  # Variable de cadena (string)\n",
    "\n",
    "### Strings (Cadenas de texto)\n",
    "\n",
    "Las **cadenas de texto**, también conocidas como *strings*, son secuencias de caracteres utilizadas para representar texto. En Python, se pueden definir utilizando comillas simples (`'`), comillas dobles (`\"`) o triples (`'''` o `\"\"\"`) para cadenas multilínea.\n",
    "\n",
    "### Características de los Strings\n",
    "\n",
    "1. **Inmutables**: Una vez creada, una cadena no puede ser modificada. Si necesitas un cambio, deberás crear una nueva cadena.\n",
    "2. **Indexación**: Los caracteres de un string están indexados, comenzando desde 0 en adelante (índices positivos) y desde -1 hacia atrás (índices negativos).\n",
    "3. **Compatibilidad con operaciones comunes**: Puedes realizar operaciones como concatenación, repetición y búsqueda.\n",
    "\n",
    "### Concatenación\n",
    "saludo = cadena_simple + \" \" + cadena_doble\n",
    "print(saludo)  # Salida: Hola Mundo\n",
    "\n",
    "### Repetición\n",
    "repetir = \"Python! \" * 3\n",
    "print(repetir)  # Salida: Python! Python! Python!\n",
    "\n",
    "### Indexación\n",
    "primera_letra = cadena_simple[0]  # 'H'\n",
    "ultima_letra = cadena_simple[-1]  # 'a'\n",
    "\n",
    "### Longitud de una cadena\n",
    "longitud = len(cadena_simple)  # 4\n"
   ]
  },
  {
   "cell_type": "code",
   "execution_count": 42,
   "metadata": {},
   "outputs": [
    {
     "name": "stdout",
     "output_type": "stream",
     "text": [
      "5\n",
      "John\n",
      "5\n",
      "3.2\n",
      "Hello\n",
      "World\n",
      "World\n",
      "World\n",
      "17\n",
      "22\n",
      "Este string \n",
      "genera el salto de linea\n",
      "\tEste string tiene tab\n",
      "Mi nombre es Elias mi edad es 60\n",
      "Mi nombres es Elias y mi edad es 60\n",
      "l e n o\n",
      "nov\n",
      "enovo\n",
      "ovonel\n",
      "Lenovo\n",
      "LENOVO\n",
      "2\n",
      "False\n",
      "lenovo\n",
      "hp\n",
      "M\n",
      "i\n",
      "c\n",
      "l\n",
      "e\n",
      "a\n",
      "Mic\n",
      "hae\n",
      "Mcal\n",
      "Mca\n",
      "7\n",
      "Elias is improving his abilities of programming and also learning german and english. \n",
      "\n",
      "Test 1 \n",
      " Elias is improving his abilities of programming and also learning german and english.\n",
      "Test 2 \t Elias is improving his abilities of programming and also learning german and english.\n"
     ]
    }
   ],
   "source": [
    "# Variables\n",
    "x = 5 # x es de tipo int\n",
    "y = \"John\"  # y es de tipo str\n",
    "print(x) # imprime el valor de x\n",
    "print(y) # imprime el valor de y\n",
    "a,b,c = 5,3.2,\"Hello\" # asigna valores a las variables a, b y c\n",
    "print(a) # imprime el valor de a\n",
    "print(b) # imprime el valor de b\n",
    "print(c) # imprime el valor de c\n",
    "d = f = g = \"World\"     # asigna el mismo valor a las variables d, f y g\n",
    "print(d) # imprime el valor de d\n",
    "print(f) # imprime el valor de f\n",
    "print(g) # imprime el valor de g\n",
    "\n",
    "# Strings\n",
    "\n",
    "mi_string = \"Este es mi string\"\n",
    "mi_otro_string = \"Este es el otro string\"\n",
    "\n",
    "# Para ver cantidad de caracteres que contiene variable\n",
    "print(len(mi_string))\n",
    "print(len(mi_otro_string))\n",
    "\n",
    "# Para hacer salto de linea \\n\n",
    "mi_nuevo_string = \"Este string \\ngenera el salto de linea\"\n",
    "print(mi_nuevo_string)\n",
    "\n",
    "# Con tabulacion, caracter especial\n",
    "tabulacion = \"\\tEste string tiene tab\" # tambien se puede colocar el tab de espacio\n",
    "print(tabulacion)\n",
    "\n",
    "# Formateo\n",
    "name = \"Elias\"\n",
    "edad = 60\n",
    "print(\"Mi nombre es\", name, \"mi edad es\", edad)\n",
    "print(f\"Mi nombres es {name} y mi edad es {edad}\")\n",
    "\n",
    "# Desempaquetado de caracteres\n",
    "marca = \"lenovo\"\n",
    "a,b,c,d,e,f = marca\n",
    "print(a,b,c,d) # Imprime Leno\n",
    "\n",
    "# Division de caracteres\n",
    "marca_slice = marca[2:5]\n",
    "print(marca_slice) # Imprime nov\n",
    "marca_slice = marca[1:]\n",
    "print(marca_slice) # imprime enovo\n",
    "\n",
    "# Reverse de la cadena de caracteres\n",
    "reversa_marca = marca[::-1]\n",
    "print(reversa_marca) # Imprime en inverso de la palabra Lenovo\n",
    "\n",
    "# Funciones del sistema \n",
    "print(marca.capitalize()) # El capitalize lo que hace es colocar la mayuscula al inicio\n",
    "print(marca.upper()) # El upper coloca todo en mayuscula\n",
    "print(marca.count(\"o\")) # Count, cuenta la cantidad de letras, en este caso se ingresa \"o\" \n",
    "print(marca.isnumeric()) # isnumeric, para que nos diga si es o no un numero\n",
    "print(marca.lower())  #Coloca todas en minusculas\n",
    "print(marca.replace(\"lenovo\",\"hp\"))\n",
    "\n",
    "# Example getting access by index of the word\n",
    "Name = \"Michael\"\n",
    "# First 3 letters of the Name\n",
    "print(Name[0]) \n",
    "print(Name[1])\n",
    "print(Name[2])\n",
    "# Last three letters of the name\n",
    "print(Name[-1])\n",
    "print(Name[-2])\n",
    "print(Name[-3])\n",
    "# Filter of index\n",
    "print(Name[0:3]) # Mic\n",
    "print(Name[3:6]) # hae\n",
    "# Every 2 index of the name (pares)\n",
    "print(Name[::2])\n",
    "# Every 2 value from 0 to 5\n",
    "print(Name[0:5:2])\n",
    "# The len of the Name\n",
    "print(len(Name))\n",
    "\n",
    "# Concatening Strings\n",
    "Name = \"Elias\"\n",
    "Statement = Name + \" is improving his abilities of programming\" + \" and also learning german and english.\"\n",
    "print (Statement,\"\\n\")\n",
    "\n",
    "# Use of /n and /t in prints\n",
    "print(\"Test 1 \\n\",Statement) \n",
    "print(\"Test 2 \\t\",Statement)"
   ]
  },
  {
   "cell_type": "markdown",
   "metadata": {},
   "source": [
    "---"
   ]
  },
  {
   "cell_type": "markdown",
   "metadata": {},
   "source": [
    "\n",
    "## Tipos Básicos en Python\n",
    "\n",
    "En Python, los tipos básicos se dividen en las siguientes categorías principales:\n",
    "\n",
    "1. **Números**  \n",
    "   Pueden ser de tres tipos:\n",
    "   - Enteros (`int`): Números sin punto decimal, como `42`.\n",
    "   - Flotantes (`float`): Números con punto decimal, como `3.14`.\n",
    "   - Complejos (`complex`): Números con parte imaginaria, como `2 + 3j`.\n",
    "\n",
    "2. **Cadenas de texto**  \n",
    "   Representan secuencias de caracteres, como `\"Hola Mundo\"`.\n",
    "\n",
    "3. **Valores booleanos**  \n",
    "   Representan los valores lógicos:\n",
    "   - `True` (verdadero)\n",
    "   - `False` (falso)"
   ]
  },
  {
   "cell_type": "code",
   "execution_count": 43,
   "metadata": {},
   "outputs": [
    {
     "name": "stdout",
     "output_type": "stream",
     "text": [
      "<class 'str'>\n",
      "<class 'int'>\n",
      "<class 'str'>\n",
      "<class 'int'>\n",
      "<class 'float'>\n",
      "<class 'list'>\n",
      "<class 'dict'>\n",
      "<class 'complex'>\n",
      "<class 'bool'>\n"
     ]
    }
   ],
   "source": [
    "# Esta es una cadena de texto\n",
    "cadena = \"Hola Mundo!\"\n",
    "\n",
    "# Y este es un número entero\n",
    "numero = 42\n",
    "\n",
    "# Ahora podemos comprobarlos con la función type()\n",
    "print(type(cadena)) # Imprime <class 'str'>\n",
    "print(type(numero)) # Imprime <class 'int'>\n",
    "\n",
    "# Averiguar el Tipo de dato\n",
    "print(type(\"Hola todos\")) # tipo string\n",
    "print(type(5))            # tipo de dato numeral\n",
    "print(type(1.5))          # tipo dato flotante\n",
    "print(type([1,2,3]))      # tipo lista\n",
    "print(type({'nombre':'Elias'})) #tipo diccionario\n",
    "print(type(3 + 1j))  # tipo complejo\n",
    "print(type(True))  # Tipo booleano\n"
   ]
  },
  {
   "cell_type": "markdown",
   "metadata": {},
   "source": [
    "## Comentarios y Tipos Básicos en Python\n",
    "\n",
    "En el ejemplo anterior, aprendimos cómo se representan los comentarios en Python. Recordemos que cualquier texto precedido por el carácter `#` será ignorado por el intérprete. Esto es útil para documentar el código y mejorar su comprensión. \n",
    "\n",
    "En esta sección, profundizaremos en el manejo de **números** en Python, uno de los tipos básicos más utilizados.\n",
    "\n",
    "---\n",
    "\n",
    "### Números en Python\n",
    "\n",
    "En Python, los números pueden ser de tres tipos principales: **enteros**, **flotantes**, y **complejos**.\n",
    "\n",
    "#### *Enteros*\n",
    "\n",
    "Los números enteros son aquellos que no tienen parte decimal y pueden ser positivos, negativos o el cero. En Python, los enteros se representan con el tipo `int` (abreviatura de \"integer\"). Si un número es extremadamente grande, Python puede representarlo automáticamente con un tipo de mayor capacidad.\n",
    "\n",
    "También es posible representar números en sistemas numéricos diferentes como **octal** o **hexadecimal**, utilizando las siguientes notaciones:\n",
    "\n",
    "- **Octal**: Los números octales se escriben comenzando con `0o` o `0O` (cero y letra \"o\").\n",
    "- **Hexadecimal**: Los números hexadecimales se escriben comenzando con `0x` o `0X` (cero y letra \"x\").\n",
    "- **Binario**: Los números binarios se escriben comenzando con `0b`(cero y letra \"b\")\n"
   ]
  },
  {
   "cell_type": "code",
   "execution_count": 44,
   "metadata": {},
   "outputs": [
    {
     "name": "stdout",
     "output_type": "stream",
     "text": [
      "23\n",
      "23\n",
      "23\n",
      "23\n"
     ]
    }
   ],
   "source": [
    "# type(int) devuelve un int\n",
    "entero = 23\n",
    "print(entero)\n",
    "# 0o27 octal = 23 en decimal\n",
    "entero_octal = 0o27\n",
    "print(entero_octal)\n",
    "# 0x17 hexadecimal = 23 en decimal\n",
    "entero_hex = 0x17\n",
    "print(entero_hex)\n",
    "# binario 10111 = 23 en decimal\n",
    "entero_bin = 0b10111\n",
    "print(entero_bin)"
   ]
  },
  {
   "cell_type": "markdown",
   "metadata": {},
   "source": [
    "#### *Reales*\n",
    "\n",
    "Los números reales son aquellos que tienen parte decimal. En Python, este tipo de número se representa mediante el tipo `float`. Para definir un número real, se escribe la parte entera seguida de un punto (`.`) y luego la parte decimal. \n",
    "\n",
    "Python también permite la representación de números reales en **notación científica**, utilizando la letra `e` para indicar el exponente en base 10. Esto es especialmente útil para representar números muy grandes o muy pequeños de manera compacta.\n"
   ]
  },
  {
   "cell_type": "code",
   "execution_count": 45,
   "metadata": {},
   "outputs": [],
   "source": [
    "# El siguiente es un número de punto flotante \n",
    "real = 3.14159\n",
    "\n",
    "# Ahora en expresión científica\n",
    "real = 314159e-5"
   ]
  },
  {
   "cell_type": "markdown",
   "metadata": {},
   "source": [
    "#### *Complejos*\n",
    "\n",
    "Los números complejos son aquellos que tienen una parte imaginaria. Este tipo de dato es muy utilizado en áreas como la ingeniería y la ciencia en general, especialmente en el análisis de señales, sistemas dinámicos y muchos otros campos. \n",
    "\n",
    "En Python, los números complejos se representan utilizando el tipo `complex`, y se almacenan con una parte real y una parte imaginaria, ambas como números de punto flotante. Los números complejos se definen utilizando la letra `j` para denotar la parte imaginaria."
   ]
  },
  {
   "cell_type": "code",
   "execution_count": 46,
   "metadata": {},
   "outputs": [
    {
     "name": "stdout",
     "output_type": "stream",
     "text": [
      "(2+3j)\n",
      "2.0\n",
      "3.0\n"
     ]
    }
   ],
   "source": [
    "# Definición de un número complejo\n",
    "complejo = 2 + 3j\n",
    "print(complejo)  # Imprime (2+3j)\n",
    "\n",
    "# Accediendo a la parte real y la parte imaginaria\n",
    "print(complejo.real)  # Imprime 2.0\n",
    "print(complejo.imag)  # Imprime 3.0"
   ]
  },
  {
   "cell_type": "code",
   "execution_count": 47,
   "metadata": {},
   "outputs": [
    {
     "name": "stdout",
     "output_type": "stream",
     "text": [
      "3\n",
      "3\n",
      "234\n",
      "5.0\n",
      "5.6\n",
      "23.0\n",
      "23.4\n",
      "(3+0j)\n",
      "(3.6+0j)\n",
      "(3+0j)\n",
      "(3+4j)\n",
      "(3+4.5j)\n",
      "(3.6+4j)\n",
      "(3+4j)\n"
     ]
    }
   ],
   "source": [
    "# Ejemplos de int, complex y float\n",
    "# la funciones int(), float() y complex() convierten a los tipos de datos int, float y complex respectivamente\n",
    "\n",
    "# int() convierte a entero\n",
    "print(int(3.14))  # Imprime 3\n",
    "print(int(3.9))   # Imprime 3\n",
    "print(int(\"234\")) # Imprime 234\n",
    "# int() no convierte a entero si la cadena tiene un punto flotante\n",
    "# print(int(\"23.4\")) # Error: no se puede convertir una cadena a entero\n",
    "# int() no convierte a entero si la cadena tiene un valor complejo\n",
    "# print(int(\"3+4j\")) # Error: no se puede convertir una cadena a entero\n",
    "# int() no convierte a entero si la cadena tiene un valor booleano\n",
    "\n",
    "# float() convierte a flotante\n",
    "print(float(5))    # Imprime 5.0\n",
    "print(float(5.6))  # Imprime 5.6\n",
    "print(float(\"23\")) # Imprime 23.0\n",
    "print(float(\"23.4\")) # Imprime 23.4\n",
    "# float() no convierte a flotante si la cadena tiene un valor complejo\n",
    "# print(float(\"3+4j\")) # Error: no se puede convertir una cadena a flotante\n",
    "# float() no convierte a flotante si la cadena tiene un valor booleano\n",
    "\n",
    "\n",
    "# complex() convierte a complejo\n",
    "print(complex(3))    # Imprime (3+0j)\n",
    "print(complex(3.6))  # Imprime (3.6+0j)\n",
    "print(complex(\"3\"))  # Imprime (3+0j)\n",
    "print(complex(3,4))  # Imprime (3+4j)\n",
    "print(complex(3,4.5))# Imprime (3+4.5j)\n",
    "print(complex(3.6,4))# Imprime (3.6+4j)\n",
    "# print(complex(\"3\",\"4\"))  # Error: no se puede convertir una cadena a complejo\n",
    "print(complex(\"3+4j\"))   # Imprime (3+4j)\n",
    "# complex() no convierte a complejo si la cadena tiene un valor booleano\n",
    "\n"
   ]
  },
  {
   "cell_type": "markdown",
   "metadata": {},
   "source": [
    "--------------"
   ]
  },
  {
   "cell_type": "markdown",
   "metadata": {},
   "source": [
    "### *Operadores*\n",
    "\n",
    "Podemos utilizar operadores por defecto para realizar diferentes operaciones matemáticas básicas, en caso de ser más complejas se utiliza el módulo *math*. A continuación se muestran los operadores aritméticos:\n",
    "\n",
    "| Operador  | Descripción     | Ejemplo |\n",
    "|-----------|-----------------|-----------|\n",
    "| +         | Suma            | suma = 5 + 3 # suma es 8  |\n",
    "| -         | Resta           | resta = 5 - 8 # resta es 3   |\n",
    "| -         | Negación        | negacion = -8 # negacion es -8  |\n",
    "| *         | Multiplicación  | multiplicacion = 6 * 8 #multiplicacion es 48 |\n",
    "| **        | Exponente       | exponente = 8 ** 2 # exponente es 64 |\n",
    "| /         | División        | division = 3.5 / 2 # division es 1.75 |\n",
    "| //        | División Entera | division_ent = 3.5 // 2 # division_ent es 1.0 |\n",
    "| %         | Módulo          | módulo = 7 % 2 # modulo es 1  |\n",
    "\n",
    "De la anterior tabla para aclarar dudas sobre el funcionamiento del operado módulo y cuál es la diferencia que tiene entre división y la división entera. Entonces el operador de módulo no hace otra cosa que devolver el resto entre los dos operandos. Para el ejemplo *7 / 2 tenemos el resultado de 3*, con 1 de resto, luego el módulo es 1. \n",
    "\n",
    "Además con respecto a la división y división entera, tenemos que la división el resultado se devuelve un número real, mientras que la división entera devuelve solamente la parte entera del resultado. Para el caso que buscamos tener un resultado en **decimales** necesitamos que al menos uno de los operandos fuera un número real, bien indicando los decimales o bien utilizando la función float, lo anterior sucede así porque en Python convierte todos los operandos al tipo más complejo de entre los tipos de los operandos."
   ]
  },
  {
   "cell_type": "code",
   "execution_count": 48,
   "metadata": {},
   "outputs": [
    {
     "name": "stdout",
     "output_type": "stream",
     "text": [
      "13\n",
      "7\n",
      "30\n",
      "1000\n",
      "1\n",
      "3.3333333333333335\n",
      "3\n",
      "3.3333333333333335\n",
      "3\n",
      "1.5\n",
      "1.5\n"
     ]
    }
   ],
   "source": [
    "# Operaciones Ariméticas\n",
    "print(10 + 3)  # Suma\n",
    "print(10 - 3)  # Resta\n",
    "print(10 * 3)  # Multiplicación\n",
    "print(10 ** 3)  # Potencia\n",
    "print(10 % 3)  # Módulo, resto de la división\n",
    "print(10 / 3)  # División\n",
    "print(10 // 3) # División entera, aproximación al entero inferior\n",
    "\n",
    "# Resultado de la división entera\n",
    "print(10 / 3)  # Imprime 3.3333333333333335\n",
    "print(10 // 3)  # Imprime 3\n",
    "print(3.0 / 2)  # Imprime 1.5\n",
    "print(float(3) / 2)  # Imprime 1.5"
   ]
  },
  {
   "cell_type": "markdown",
   "metadata": {},
   "source": [
    "### *Operadores a nivel de bit*\n",
    "\n",
    "Estos son operadores que actúan sobre las representaciones en binario de los operandos, por ejemplo si tenemos una operación como 3 & 2, en representación binaria tenemos lo que sería los números 11 y 10 respectivamente. \n",
    "\n",
    "- El operador *and (&)* devuelve un1 si el primer bit operado es 1 y el segundo bit operando es 1, en caso contrario devuelve un 0. El resultado de aplicar la operación bit a bit de 11 y 10 entonces el resultado es 10, lo que en decimal es 2. \n",
    "\n",
    "- El operador *or (|)* regresa un 1 si el primer operando es 1 o el segundo operando es 1. Para el resto de casos regresa un 0. \n",
    "\n",
    "- El operador *xor (^)* devuelve un 1 si uno de los operandos es 1 y el otro no lo es.\n",
    "\n",
    "- El operado *not (~)* sirve para negar uno a uno cada bit, si el operando es 0 cambia a 1 y tenemos 1 cambia a 0.\n",
    "\n",
    "Por último los operadores de desplazamiento (<< y >>) sirven para desplazar los bits n posiciones hacia la izquierda o la derecha. \n",
    "\n",
    "---\n",
    "\n",
    "### **Tabla de Verdad para Operaciones Lógicas**\n",
    "\n",
    "La siguiente tabla muestra cómo funcionan las operaciones lógicas básicas (`AND`, `OR`, `XOR`) a nivel de bit:\n",
    "\n",
    "| Bit A | Bit B | `A & B` | `A OR B` | `A ^ B` |\n",
    "|-------|-------|---------|----------|---------|\n",
    "|   0   |   0   |    0    |    0     |    0    |\n",
    "|   0   |   1   |    0    |    1     |    1    |\n",
    "|   1   |   0   |    0    |    1     |    1    |\n",
    "|   1   |   1   |    1    |    1     |    0    |\n",
    "\n",
    "---\n",
    "\n",
    "### *Cadenas*\n",
    "\n",
    "Las cadenas son el texto encerrado entre comillas simples '' o dobles \"\". Dentro de estas comillas se pueden agregar caracteres especiales escapándolos con \\, como \\n el carácter de nueva línea, o \\t el de tabulación. También es posible encerrar una cadena entre triples comillas (simples o dobles). De esta forma podremos escribir el texto en varias líneas, y al imprimir la cadena, se respetarán los saltos de línea que introdujimos sin tener que recurrir al carácter \\n, así como las comillas sin tener que escaparlas. Las cadenas también admiten operadores como +, que funciona realizando una concatenación de las cadenas utilizadas como operandos y * en la que se repite la cadena tantas veces como lo indique el número utilizando como segundo operando. "
   ]
  },
  {
   "cell_type": "code",
   "execution_count": 49,
   "metadata": {},
   "outputs": [
    {
     "name": "stdout",
     "output_type": "stream",
     "text": [
      "Hola Mundo!\n",
      "Hola Mundo!\n",
      "primera linea\n",
      " esto se vera en otra linea\n",
      "Hola Mundo!\n",
      "Hola Hola Hola \n"
     ]
    }
   ],
   "source": [
    "# cadena de texto con comillas simples\n",
    "cadena = 'Hola Mundo!'\n",
    "print(cadena)\n",
    "# cadena de texto con comillas dobles\n",
    "cadena = \"Hola Mundo!\"\n",
    "print(cadena)\n",
    "# cadena de texto con comillas triples\n",
    "cadena =  \"\"\"primera linea\n",
    " esto se vera en otra linea\"\"\"\n",
    "print(cadena)\n",
    "\n",
    "# cadena con operadores + y *\n",
    "cadena = \"Hola \" + \"Mundo!\"\n",
    "print(cadena)  # Imprime Hola Mundo!\n",
    "cadena = \"Hola \" * 3\n",
    "print(cadena)  # Imprime Hola Hola Hola"
   ]
  },
  {
   "cell_type": "markdown",
   "metadata": {},
   "source": [
    "### *Booleanos*\n",
    "\n",
    "La variable de tipo booleano no sólo puede tener dos valores: True y False. Estos valores son especialmente importantes para las expresiones condicionales y los bucles que más adelante se analizarán. El tipo *bool* (booleano) es una subclase del tipo int. Los siguientes son los distintos tipos de operadores con los que trabajaremos con valores booleanos, los llamamos operadores lógicos o condicionales. "
   ]
  },
  {
   "cell_type": "code",
   "execution_count": 50,
   "metadata": {},
   "outputs": [
    {
     "name": "stdout",
     "output_type": "stream",
     "text": [
      "True\n",
      "False\n",
      "False\n",
      "True\n",
      "True\n",
      "False\n",
      "True\n",
      "False\n",
      "False\n",
      "True\n",
      "False\n",
      "True\n",
      "False\n",
      "True\n",
      "True\n",
      "False\n",
      "False\n",
      "True\n",
      "False\n",
      "3\n"
     ]
    }
   ],
   "source": [
    "# Operador booleano\n",
    "print(3 > 2)  # Imprime True\n",
    "print(3 < 2)  # Imprime False\n",
    "print(3 == 2)  # Imprime False\n",
    "print(3 != 2)  # Imprime True\n",
    "print(3 >= 2)  # Imprime True\n",
    "print(3 <= 2)  # Imprime False\n",
    "\n",
    "# uso is y is not\n",
    "a = 2\n",
    "b = 2\n",
    "print(a is b)  # Imprime True\n",
    "print(a is not b)  # Imprime False\n",
    "\n",
    "# operadores lógico\n",
    "a = True\n",
    "b = False\n",
    "print(a and b)  # Imprime False\n",
    "print(a or b)  # Imprime True\n",
    "print(not a)  # Imprime False\n",
    "\n",
    "# operadores que cumplen a y b \n",
    "a = 2 # a es igual a 2\n",
    "b = 3 # b es igual a 3\n",
    "print(a == 2)  # Imprime True, ya que a es igual a 2\n",
    "print(a == b)  # Imprime False, ya que a no es igual a b\n",
    "print(a < b)  # Imprime True, ya que a es menor que b\n",
    "print(a <= b)  # Imprime True, ya que a es menor o igual que b\n",
    "print(a > b)  # Imprime False, ya que a no es mayor que b\n",
    "print(a >= b)  # Imprime False, ya que a no es mayor o igual que b\n",
    "print(a != b)  # Imprime True, ya que a no es igual a b\n",
    "\n",
    "# = no es igual a ==\n",
    "a = 2\n",
    "b = 3\n",
    "print(a == b)  # Imprime False\n",
    "a = b\n",
    "print(a)  # Imprime 3"
   ]
  }
 ],
 "metadata": {
  "kernelspec": {
   "display_name": "Python 3",
   "language": "python",
   "name": "python3"
  },
  "language_info": {
   "codemirror_mode": {
    "name": "ipython",
    "version": 3
   },
   "file_extension": ".py",
   "mimetype": "text/x-python",
   "name": "python",
   "nbconvert_exporter": "python",
   "pygments_lexer": "ipython3",
   "version": "3.11.9"
  }
 },
 "nbformat": 4,
 "nbformat_minor": 2
}
