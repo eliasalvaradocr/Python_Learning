{
 "cells": [
  {
   "cell_type": "markdown",
   "metadata": {},
   "source": [
    "# "
   ]
  },
  {
   "cell_type": "markdown",
   "metadata": {},
   "source": [
    "# Introducción a Python\n",
    "### Elaborado por Elías Alvarado\n",
    "---\n",
    "\n",
    "## Comentarios en Python\n",
    "\n",
    "Los comentarios son elementos esenciales en cualquier lenguaje de programación, y Python no es la excepción. Nos permiten agregar explicaciones o notas en el código que no son interpretadas ni ejecutadas por el programa. \n",
    "\n",
    "### ¿Cómo se escriben los comentarios?\n",
    "\n",
    "En Python, un comentario comienza con el carácter `#` y continúa hasta el final de la línea. Los comentarios pueden:\n",
    "\n",
    "1. Aparecer al comienzo de una línea.\n",
    "2. Estar precedidos por espacios en blanco o código.\n",
    "3. **Nunca** estar dentro de una cadena de caracteres, ya que entonces serán interpretados como texto literal."
   ]
  },
  {
   "cell_type": "code",
   "execution_count": 97,
   "metadata": {},
   "outputs": [],
   "source": [
    "# Este es un comentario\n",
    "primero = 1 # y este es otro comentario\n",
    "            # ... y ahora otro!\n",
    "texto = \"# Este no puede ser un comentario por estar entre comillas\""
   ]
  },
  {
   "cell_type": "markdown",
   "metadata": {},
   "source": [
    "## Tipos Básicos en Python\n",
    "\n",
    "En Python, los tipos básicos se dividen en las siguientes categorías principales:\n",
    "\n",
    "1. **Números**  \n",
    "   Pueden ser de tres tipos:\n",
    "   - Enteros (`int`): Números sin punto decimal, como `42`.\n",
    "   - Flotantes (`float`): Números con punto decimal, como `3.14`.\n",
    "   - Complejos (`complex`): Números con parte imaginaria, como `2 + 3j`.\n",
    "\n",
    "2. **Cadenas de texto**  \n",
    "   Representan secuencias de caracteres, como `\"Hola Mundo\"`.\n",
    "\n",
    "3. **Valores booleanos**  \n",
    "   Representan los valores lógicos:\n",
    "   - `True` (verdadero)\n",
    "   - `False` (falso)"
   ]
  },
  {
   "cell_type": "code",
   "execution_count": 98,
   "metadata": {},
   "outputs": [
    {
     "name": "stdout",
     "output_type": "stream",
     "text": [
      "<class 'str'>\n",
      "<class 'int'>\n"
     ]
    }
   ],
   "source": [
    "# Esta es una cadena de texto\n",
    "cadena = \"Hola Mundo!\"\n",
    "\n",
    "# Y este es un número entero\n",
    "numero = 42\n",
    "\n",
    "# Ahora podemos comprobarlos con la función type()\n",
    "print(type(cadena)) # Imprime <class 'str'>\n",
    "print(type(numero)) # Imprime <class 'int'>"
   ]
  },
  {
   "cell_type": "markdown",
   "metadata": {},
   "source": [
    "## Comentarios y Tipos Básicos en Python\n",
    "\n",
    "En el ejemplo anterior, aprendimos cómo se representan los comentarios en Python. Recordemos que cualquier texto precedido por el carácter `#` será ignorado por el intérprete. Esto es útil para documentar el código y mejorar su comprensión. \n",
    "\n",
    "En esta sección, profundizaremos en el manejo de **números** en Python, uno de los tipos básicos más utilizados.\n",
    "\n",
    "---\n",
    "\n",
    "### Números en Python\n",
    "\n",
    "En Python, los números pueden ser de tres tipos principales: **enteros**, **flotantes**, y **complejos**.\n",
    "\n",
    "#### *Enteros*\n",
    "\n",
    "Los números enteros son aquellos que no tienen parte decimal y pueden ser positivos, negativos o el cero. En Python, los enteros se representan con el tipo `int` (abreviatura de \"integer\"). Si un número es extremadamente grande, Python puede representarlo automáticamente con un tipo de mayor capacidad.\n",
    "\n",
    "También es posible representar números en sistemas numéricos diferentes como **octal** o **hexadecimal**, utilizando las siguientes notaciones:\n",
    "\n",
    "- **Octal**: Los números octales se escriben comenzando con `0o` o `0O` (cero y letra \"o\").\n",
    "- **Hexadecimal**: Los números hexadecimales se escriben comenzando con `0x` o `0X` (cero y letra \"x\").\n"
   ]
  },
  {
   "cell_type": "code",
   "execution_count": 99,
   "metadata": {},
   "outputs": [
    {
     "name": "stdout",
     "output_type": "stream",
     "text": [
      "23\n",
      "23\n",
      "23\n"
     ]
    }
   ],
   "source": [
    "# type(int) devuelve un int\n",
    "entero = 23\n",
    "print(entero)\n",
    "# 0o27 octal = 23 en decimal\n",
    "entero_octal = 0o27\n",
    "print(entero_octal)\n",
    "# 0x17 hexadecimal = 23 en decimal\n",
    "entero_hex = 0x17\n",
    "print(entero_hex)"
   ]
  },
  {
   "cell_type": "markdown",
   "metadata": {},
   "source": [
    "#### *Reales*\n",
    "\n",
    "Los números reales son aquellos que tienen parte decimal. En Python, este tipo de número se representa mediante el tipo `float`. Para definir un número real, se escribe la parte entera seguida de un punto (`.`) y luego la parte decimal. \n",
    "\n",
    "Python también permite la representación de números reales en **notación científica**, utilizando la letra `e` para indicar el exponente en base 10. Esto es especialmente útil para representar números muy grandes o muy pequeños de manera compacta.\n"
   ]
  },
  {
   "cell_type": "code",
   "execution_count": 100,
   "metadata": {},
   "outputs": [],
   "source": [
    "# El siguiente es un número de punto flotante \n",
    "real = 3.14159\n",
    "\n",
    "# Ahora en expresión científica\n",
    "real = 314159e-5"
   ]
  },
  {
   "cell_type": "markdown",
   "metadata": {},
   "source": [
    "#### *Complejos*\n",
    "\n",
    "Los números complejos son aquellos que tienen una parte imaginaria. Este tipo de dato es muy utilizado en áreas como la ingeniería y la ciencia en general, especialmente en el análisis de señales, sistemas dinámicos y muchos otros campos. \n",
    "\n",
    "En Python, los números complejos se representan utilizando el tipo `complex`, y se almacenan con una parte real y una parte imaginaria, ambas como números de punto flotante. Los números complejos se definen utilizando la letra `j` para denotar la parte imaginaria."
   ]
  },
  {
   "cell_type": "code",
   "execution_count": 101,
   "metadata": {},
   "outputs": [
    {
     "name": "stdout",
     "output_type": "stream",
     "text": [
      "(2+3j)\n",
      "2.0\n",
      "3.0\n"
     ]
    }
   ],
   "source": [
    "# Definición de un número complejo\n",
    "complejo = 2 + 3j\n",
    "print(complejo)  # Imprime (2+3j)\n",
    "\n",
    "# Accediendo a la parte real y la parte imaginaria\n",
    "print(complejo.real)  # Imprime 2.0\n",
    "print(complejo.imag)  # Imprime 3.0"
   ]
  }
 ],
 "metadata": {
  "kernelspec": {
   "display_name": "Python 3",
   "language": "python",
   "name": "python3"
  },
  "language_info": {
   "codemirror_mode": {
    "name": "ipython",
    "version": 3
   },
   "file_extension": ".py",
   "mimetype": "text/x-python",
   "name": "python",
   "nbconvert_exporter": "python",
   "pygments_lexer": "ipython3",
   "version": "3.11.9"
  }
 },
 "nbformat": 4,
 "nbformat_minor": 2
}
