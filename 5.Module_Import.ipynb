{
 "cells": [
  {
   "cell_type": "code",
   "execution_count": null,
   "metadata": {},
   "outputs": [],
   "source": [
    "import random as rd\n",
    "\n",
    "# Primer Ejemplo\n",
    "respuesta = rd.randint(1,100)\n",
    "print(respuesta)\n",
    "\n",
    "# Segundo Ejemplo\n",
    "minimo = int(input(\"Valor minimo: \"))\n",
    "maximo = int(input(\"Valor maximo: \"))\n",
    "\n",
    "rango = rd.randint(minimo,maximo)\n",
    "print(rango)"
   ]
  }
 ],
 "metadata": {
  "kernelspec": {
   "display_name": "Python 3",
   "language": "python",
   "name": "python3"
  },
  "language_info": {
   "codemirror_mode": {
    "name": "ipython",
    "version": 3
   },
   "file_extension": ".py",
   "mimetype": "text/x-python",
   "name": "python",
   "nbconvert_exporter": "python",
   "pygments_lexer": "ipython3",
   "version": "3.11.9"
  }
 },
 "nbformat": 4,
 "nbformat_minor": 2
}
